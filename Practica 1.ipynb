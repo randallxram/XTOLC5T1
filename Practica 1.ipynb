{
 "cells": [
  {
   "cell_type": "markdown",
   "metadata": {},
   "source": [
    "# Plan of Attack 3 - Ejercicios basicos\n",
    "Ejercicios del plan de ataque. No son del tutorial ni del libro. "
   ]
  },
  {
   "cell_type": "markdown",
   "metadata": {},
   "source": [
    "Importar librerías"
   ]
  },
  {
   "cell_type": "code",
   "execution_count": 8,
   "metadata": {},
   "outputs": [
    {
     "data": {
      "text/plain": [
       "5.0"
      ]
     },
     "execution_count": 8,
     "metadata": {},
     "output_type": "execute_result"
    }
   ],
   "source": [
    "import math as mt\n",
    "mt.sqrt(25)"
   ]
  },
  {
   "cell_type": "code",
   "execution_count": 9,
   "metadata": {},
   "outputs": [
    {
     "data": {
      "text/plain": [
       "3.141592653589793"
      ]
     },
     "execution_count": 9,
     "metadata": {},
     "output_type": "execute_result"
    }
   ],
   "source": [
    "mt.pi"
   ]
  },
  {
   "cell_type": "code",
   "execution_count": 11,
   "metadata": {},
   "outputs": [
    {
     "data": {
      "text/plain": [
       "array([[0.23907533, 0.68185595, 0.6111295 , 0.63969012, 0.39998673],\n",
       "       [0.8953188 , 0.86285982, 0.22380233, 0.25103992, 0.06593243],\n",
       "       [0.22505548, 0.3189059 , 0.09266634, 0.42654686, 0.71977682],\n",
       "       [0.93087423, 0.95960475, 0.13100169, 0.91672347, 0.47311047],\n",
       "       [0.2563223 , 0.62725968, 0.58700301, 0.43549124, 0.77401138]])"
      ]
     },
     "execution_count": 11,
     "metadata": {},
     "output_type": "execute_result"
    }
   ],
   "source": [
    "from numpy import random\n",
    "import numpy as np\n",
    "# uniform random numbers in [0,1]\n",
    "random.rand(5,5)"
   ]
  },
  {
   "cell_type": "code",
   "execution_count": 13,
   "metadata": {},
   "outputs": [
    {
     "data": {
      "text/plain": [
       "0.5691870017079098"
      ]
     },
     "execution_count": 13,
     "metadata": {},
     "output_type": "execute_result"
    }
   ],
   "source": [
    "dataOne = random.rand(5,5)\n",
    "np.mean(dataOne)"
   ]
  },
  {
   "cell_type": "code",
   "execution_count": 18,
   "metadata": {},
   "outputs": [
    {
     "name": "stdout",
     "output_type": "stream",
     "text": [
      "I love Saprissa\n",
      "25\n",
      "25.0\n"
     ]
    }
   ],
   "source": [
    "var1 = 'I love Saprissa'\n",
    "var2 = 25\n",
    "var3 = 25.0\n",
    "print(var1)\n",
    "print(var2)\n",
    "print(var3)"
   ]
  },
  {
   "cell_type": "code",
   "execution_count": 17,
   "metadata": {},
   "outputs": [
    {
     "data": {
      "text/plain": [
       "str"
      ]
     },
     "execution_count": 17,
     "metadata": {},
     "output_type": "execute_result"
    }
   ],
   "source": [
    "type(var1)"
   ]
  },
  {
   "cell_type": "code",
   "execution_count": 19,
   "metadata": {},
   "outputs": [
    {
     "data": {
      "text/plain": [
       "int"
      ]
     },
     "execution_count": 19,
     "metadata": {},
     "output_type": "execute_result"
    }
   ],
   "source": [
    "type(var2)"
   ]
  },
  {
   "cell_type": "code",
   "execution_count": 20,
   "metadata": {},
   "outputs": [
    {
     "data": {
      "text/plain": [
       "float"
      ]
     },
     "execution_count": 20,
     "metadata": {},
     "output_type": "execute_result"
    }
   ],
   "source": [
    "type(var3)"
   ]
  },
  {
   "cell_type": "code",
   "execution_count": 24,
   "metadata": {
    "scrolled": true
   },
   "outputs": [
    {
     "name": "stdout",
     "output_type": "stream",
     "text": [
      "50.0\n",
      "I love Saprissa & DataScience\n"
     ]
    }
   ],
   "source": [
    "var4 = var2+var3\n",
    "var5 = \" & DataScience\"\n",
    "var6 = var1 + var5\n",
    "print(var4)\n",
    "print(var6)"
   ]
  },
  {
   "cell_type": "code",
   "execution_count": 25,
   "metadata": {},
   "outputs": [
    {
     "name": "stdout",
     "output_type": "stream",
     "text": [
      "I love Saprissa & DataScience50.0\n"
     ]
    }
   ],
   "source": [
    "var7=var6 + str(var4)\n",
    "print(var7)"
   ]
  },
  {
   "cell_type": "code",
   "execution_count": 26,
   "metadata": {},
   "outputs": [
    {
     "name": "stdout",
     "output_type": "stream",
     "text": [
      "[2, 3]\n"
     ]
    }
   ],
   "source": [
    "listOne = [1,2,3,4]\n",
    "print(listOne[1:3])"
   ]
  },
  {
   "cell_type": "markdown",
   "metadata": {},
   "source": [
    "No entiendo el tema de los rangos. Si yo pongo [0:1] debería dar dos valores: el que está en la posición 0 hasta el que está en la posición 1. Sin embargo solo da 1 valor. Esto debo revisarlo más a fondo. "
   ]
  },
  {
   "cell_type": "code",
   "execution_count": 30,
   "metadata": {},
   "outputs": [
    {
     "name": "stdout",
     "output_type": "stream",
     "text": [
      "[2]\n"
     ]
    }
   ],
   "source": [
    "print(listOne[1:2])"
   ]
  },
  {
   "cell_type": "code",
   "execution_count": 31,
   "metadata": {},
   "outputs": [
    {
     "name": "stdout",
     "output_type": "stream",
     "text": [
      "[[0.41532501 0.99090505 0.14276702 0.59185023 0.96278424]\n",
      " [0.70721062 0.73164229 0.80788108 0.75442264 0.77604608]\n",
      " [0.58747361 0.22226429 0.81013122 0.04512378 0.77270865]\n",
      " [0.03706679 0.56396342 0.07867603 0.1721303  0.57470795]\n",
      " [0.15561413 0.98197546 0.63175041 0.74590829 0.96934645]]\n"
     ]
    }
   ],
   "source": [
    "print(dataOne)"
   ]
  },
  {
   "cell_type": "code",
   "execution_count": 33,
   "metadata": {},
   "outputs": [
    {
     "name": "stdout",
     "output_type": "stream",
     "text": [
      "[0.41532501 0.99090505 0.14276702 0.59185023 0.96278424]\n"
     ]
    }
   ],
   "source": [
    "print(dataOne[0])"
   ]
  },
  {
   "cell_type": "code",
   "execution_count": 34,
   "metadata": {},
   "outputs": [
    {
     "name": "stdout",
     "output_type": "stream",
     "text": [
      "[[0.41532501 0.99090505 0.14276702 0.59185023 0.96278424]]\n"
     ]
    }
   ],
   "source": [
    "print(dataOne[0:1])"
   ]
  },
  {
   "cell_type": "code",
   "execution_count": 35,
   "metadata": {},
   "outputs": [
    {
     "name": "stdout",
     "output_type": "stream",
     "text": [
      "[[0.41532501 0.99090505 0.14276702 0.59185023 0.96278424]\n",
      " [0.70721062 0.73164229 0.80788108 0.75442264 0.77604608]]\n"
     ]
    }
   ],
   "source": [
    "print(dataOne[0:2])"
   ]
  },
  {
   "cell_type": "code",
   "execution_count": 36,
   "metadata": {},
   "outputs": [
    {
     "name": "stdout",
     "output_type": "stream",
     "text": [
      "0.41532500723505783\n"
     ]
    }
   ],
   "source": [
    "print(dataOne[0][0])"
   ]
  },
  {
   "cell_type": "code",
   "execution_count": 37,
   "metadata": {},
   "outputs": [
    {
     "name": "stdout",
     "output_type": "stream",
     "text": [
      "[0.41532501]\n"
     ]
    }
   ],
   "source": [
    "print(dataOne[0][0:1])"
   ]
  },
  {
   "cell_type": "code",
   "execution_count": 38,
   "metadata": {},
   "outputs": [
    {
     "name": "stdout",
     "output_type": "stream",
     "text": [
      "[0.41532501 0.99090505]\n"
     ]
    }
   ],
   "source": [
    "print(dataOne[0][0:2])"
   ]
  },
  {
   "cell_type": "code",
   "execution_count": 39,
   "metadata": {},
   "outputs": [
    {
     "name": "stdout",
     "output_type": "stream",
     "text": [
      "[0.99090505 0.14276702]\n"
     ]
    }
   ],
   "source": [
    "print(dataOne[0][1:3])"
   ]
  },
  {
   "cell_type": "code",
   "execution_count": 40,
   "metadata": {},
   "outputs": [],
   "source": [
    "tel = {'jack': 4098, 'sape': 4139}"
   ]
  },
  {
   "cell_type": "code",
   "execution_count": 43,
   "metadata": {},
   "outputs": [
    {
     "name": "stdout",
     "output_type": "stream",
     "text": [
      "4098\n"
     ]
    }
   ],
   "source": [
    "print(tel['jack'])"
   ]
  },
  {
   "cell_type": "code",
   "execution_count": 44,
   "metadata": {},
   "outputs": [
    {
     "name": "stdout",
     "output_type": "stream",
     "text": [
      "8237\n"
     ]
    }
   ],
   "source": [
    "var8 = tel['jack']+tel['sape']\n",
    "print(var8)"
   ]
  },
  {
   "cell_type": "code",
   "execution_count": 47,
   "metadata": {},
   "outputs": [
    {
     "name": "stdout",
     "output_type": "stream",
     "text": [
      "1\n"
     ]
    }
   ],
   "source": [
    "print(mt.gcd(tel['jack'],tel['sape']))"
   ]
  },
  {
   "cell_type": "code",
   "execution_count": null,
   "metadata": {},
   "outputs": [],
   "source": []
  }
 ],
 "metadata": {
  "kernelspec": {
   "display_name": "Python 3",
   "language": "python",
   "name": "python3"
  },
  "language_info": {
   "codemirror_mode": {
    "name": "ipython",
    "version": 3
   },
   "file_extension": ".py",
   "mimetype": "text/x-python",
   "name": "python",
   "nbconvert_exporter": "python",
   "pygments_lexer": "ipython3",
   "version": "3.7.4"
  }
 },
 "nbformat": 4,
 "nbformat_minor": 2
}
